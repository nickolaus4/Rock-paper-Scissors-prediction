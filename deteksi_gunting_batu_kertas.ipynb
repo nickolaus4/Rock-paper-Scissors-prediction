{
  "nbformat": 4,
  "nbformat_minor": 0,
  "metadata": {
    "colab": {
      "name": "deteksi gunting batu kertas.ipynb",
      "provenance": [],
      "collapsed_sections": []
    },
    "kernelspec": {
      "name": "python3",
      "display_name": "Python 3"
    },
    "language_info": {
      "name": "python"
    }
  },
  "cells": [
    {
      "cell_type": "markdown",
      "metadata": {
        "id": "pie0CoYJRj5D"
      },
      "source": [
        "Dibuat oleh Nickolaus Satria Bagaskara"
      ]
    },
    {
      "cell_type": "markdown",
      "metadata": {
        "id": "XHJQrC6FlS2X"
      },
      "source": [
        "Import Library"
      ]
    },
    {
      "cell_type": "code",
      "metadata": {
        "colab": {
          "base_uri": "https://localhost:8080/"
        },
        "id": "sNvasz2zGST5",
        "outputId": "f72d99da-acc6-48ac-8785-c6fd80390e5c"
      },
      "source": [
        "import tensorflow as tf\n",
        "import keras\n",
        "print(tf.__version__)"
      ],
      "execution_count": null,
      "outputs": [
        {
          "output_type": "stream",
          "text": [
            "2.5.0\n"
          ],
          "name": "stdout"
        }
      ]
    },
    {
      "cell_type": "markdown",
      "metadata": {
        "id": "w0F7pXWklYft"
      },
      "source": [
        "Download dataset"
      ]
    },
    {
      "cell_type": "code",
      "metadata": {
        "colab": {
          "base_uri": "https://localhost:8080/"
        },
        "id": "vB1imks-IMuj",
        "outputId": "decf6649-af95-45a4-f609-25bb024c39df"
      },
      "source": [
        "!wget --no-check-certificate \\\n",
        "  https://dicodingacademy.blob.core.windows.net/picodiploma/ml_pemula_academy/rockpaperscissors.zip \\\n",
        "  -O /tmp/rockpaperscissors.zip"
      ],
      "execution_count": null,
      "outputs": [
        {
          "output_type": "stream",
          "text": [
            "--2021-06-25 15:09:49--  https://dicodingacademy.blob.core.windows.net/picodiploma/ml_pemula_academy/rockpaperscissors.zip\n",
            "Resolving dicodingacademy.blob.core.windows.net (dicodingacademy.blob.core.windows.net)... 52.239.197.36\n",
            "Connecting to dicodingacademy.blob.core.windows.net (dicodingacademy.blob.core.windows.net)|52.239.197.36|:443... connected.\n",
            "HTTP request sent, awaiting response... 200 OK\n",
            "Length: 322873683 (308M) [application/zip]\n",
            "Saving to: ‘/tmp/rockpaperscissors.zip’\n",
            "\n",
            "/tmp/rockpapersciss 100%[===================>] 307.92M  4.48MB/s    in 74s     \n",
            "\n",
            "2021-06-25 15:11:04 (4.17 MB/s) - ‘/tmp/rockpaperscissors.zip’ saved [322873683/322873683]\n",
            "\n"
          ],
          "name": "stdout"
        }
      ]
    },
    {
      "cell_type": "markdown",
      "metadata": {
        "id": "1YwxUH3ilWWH"
      },
      "source": [
        "Extract dataset"
      ]
    },
    {
      "cell_type": "code",
      "metadata": {
        "id": "0slTAARUIRGd"
      },
      "source": [
        "# melakukan ekstraksi pada file zip\n",
        "import zipfile,os\n",
        "local_zip = '/tmp/rockpaperscissors.zip'\n",
        "zip_ref = zipfile.ZipFile(local_zip, 'r')\n",
        "zip_ref.extractall('/tmp')\n",
        "zip_ref.close()\n"
      ],
      "execution_count": null,
      "outputs": []
    },
    {
      "cell_type": "markdown",
      "metadata": {
        "id": "ll9bXEdJRiW-"
      },
      "source": [
        "Making new folder for split train and validation"
      ]
    },
    {
      "cell_type": "code",
      "metadata": {
        "id": "lMrEL-35r9_A"
      },
      "source": [
        "import  shutil"
      ],
      "execution_count": null,
      "outputs": []
    },
    {
      "cell_type": "code",
      "metadata": {
        "colab": {
          "base_uri": "https://localhost:8080/"
        },
        "id": "J9_h5icBIa73",
        "outputId": "d09142f9-2874-465b-dff9-8d6387cb496a"
      },
      "source": [
        "dir = os.path.join('/tmp/rockpaperscissors/latih')\n",
        "if not os.path.exists(dir):\n",
        "    os.mkdir(dir)\n",
        "else:\n",
        "    shutil.rmtree(dir)\n",
        "    os.mkdir(dir)\n",
        "dir = os.path.join('/tmp/rockpaperscissors/cek')\n",
        "if not os.path.exists(dir):\n",
        "    os.mkdir(dir)\n",
        "else:\n",
        "    shutil.rmtree(dir)\n",
        "    os.mkdir(dir)\n",
        "os.mkdir('/tmp/rockpaperscissors/latih/rock')\n",
        "os.mkdir('/tmp/rockpaperscissors/latih/scissors')\n",
        "os.mkdir('/tmp/rockpaperscissors/latih/paper')\n",
        "os.mkdir('/tmp/rockpaperscissors/cek/rock')\n",
        "os.mkdir('/tmp/rockpaperscissors/cek/scissors')\n",
        "os.mkdir('/tmp/rockpaperscissors/cek/paper')\n",
        "os.listdir('/tmp/rockpaperscissors')"
      ],
      "execution_count": null,
      "outputs": [
        {
          "output_type": "execute_result",
          "data": {
            "text/plain": [
              "['rock',\n",
              " 'cek',\n",
              " 'README_rpc-cv-images.txt',\n",
              " 'paper',\n",
              " 'latih',\n",
              " 'scissors',\n",
              " 'rps-cv-images']"
            ]
          },
          "metadata": {
            "tags": []
          },
          "execution_count": 6
        }
      ]
    },
    {
      "cell_type": "markdown",
      "metadata": {
        "id": "T__DpT-qmHkj"
      },
      "source": [
        "split data for train and validation"
      ]
    },
    {
      "cell_type": "code",
      "metadata": {
        "colab": {
          "base_uri": "https://localhost:8080/"
        },
        "id": "mTb34mDrY9tO",
        "outputId": "b4b68480-63f1-4439-e9dd-157e9e1bec1e"
      },
      "source": [
        "from sklearn.model_selection import train_test_split\n",
        "\n",
        "rock_train, rock_test = train_test_split(os.listdir('/tmp/rockpaperscissors/rock'), test_size=0.40, random_state=1010)\n",
        "scissors_train, scissors_test = train_test_split(os.listdir('/tmp/rockpaperscissors/scissors'), test_size=0.40, random_state=1010)\n",
        "paper_train, paper_test = train_test_split(os.listdir('/tmp/rockpaperscissors/paper'), test_size=0.40, random_state=1010)\n",
        "[shutil.copy('/tmp/rockpaperscissors/rock/'+num, '/tmp/rockpaperscissors/latih/rock/'+num)for num in rock_train]\n",
        "[shutil.copy('/tmp/rockpaperscissors/rock/'+num, '/tmp/rockpaperscissors/cek/rock/'+num)for num in rock_test]\n",
        "[shutil.copy('/tmp/rockpaperscissors/scissors/'+num, '/tmp/rockpaperscissors/latih/scissors/'+num)for num in scissors_train]\n",
        "[shutil.copy('/tmp/rockpaperscissors/scissors/'+num, '/tmp/rockpaperscissors/cek/scissors/'+num)for num in scissors_test]\n",
        "[shutil.copy('/tmp/rockpaperscissors/paper/'+num, '/tmp/rockpaperscissors/latih/paper/'+num)for num in paper_train]\n",
        "[shutil.copy('/tmp/rockpaperscissors/paper/'+num, '/tmp/rockpaperscissors/cek/paper/'+num)for num in paper_test]"
      ],
      "execution_count": null,
      "outputs": [
        {
          "output_type": "execute_result",
          "data": {
            "text/plain": [
              "['/tmp/rockpaperscissors/cek/paper/1Frbe8cdOdkciOBg.png',\n",
              " '/tmp/rockpaperscissors/cek/paper/eBU0DmyWZu3WLjSO.png',\n",
              " '/tmp/rockpaperscissors/cek/paper/C7zCG474LseZgn8o.png',\n",
              " '/tmp/rockpaperscissors/cek/paper/sisDkUJdIN7AkgTV.png',\n",
              " '/tmp/rockpaperscissors/cek/paper/TYjJigXjEyiVntzx.png',\n",
              " '/tmp/rockpaperscissors/cek/paper/K6IACWoiTOnGR9Np.png',\n",
              " '/tmp/rockpaperscissors/cek/paper/Ht08RX3DQCSdl9Sy.png',\n",
              " '/tmp/rockpaperscissors/cek/paper/VD4twqBeFDIHSovy.png',\n",
              " '/tmp/rockpaperscissors/cek/paper/JRZTPL2YQ6cfIMh9.png',\n",
              " '/tmp/rockpaperscissors/cek/paper/AYfr1pZxmZyZaXWu.png',\n",
              " '/tmp/rockpaperscissors/cek/paper/JZ8KCFK6y0Zd87Xl.png',\n",
              " '/tmp/rockpaperscissors/cek/paper/C3j6RdTEo4jf6Cr4.png',\n",
              " '/tmp/rockpaperscissors/cek/paper/zBMp6VflTDyfCqa6.png',\n",
              " '/tmp/rockpaperscissors/cek/paper/pUCjvjdpH5HSaWxl.png',\n",
              " '/tmp/rockpaperscissors/cek/paper/5kJec3v9txvrAb4g.png',\n",
              " '/tmp/rockpaperscissors/cek/paper/wBUGgxpeb0gggcTx.png',\n",
              " '/tmp/rockpaperscissors/cek/paper/7UoLr02FuYuLrJxz.png',\n",
              " '/tmp/rockpaperscissors/cek/paper/6wuALDd920vZ0qZE.png',\n",
              " '/tmp/rockpaperscissors/cek/paper/JDZ86cNk15r0NTi6.png',\n",
              " '/tmp/rockpaperscissors/cek/paper/Y7DDimLAYeU323au.png',\n",
              " '/tmp/rockpaperscissors/cek/paper/eCZWzeGkpX6rdizo.png',\n",
              " '/tmp/rockpaperscissors/cek/paper/HbBcQItQ6d5yMDqL.png',\n",
              " '/tmp/rockpaperscissors/cek/paper/389udM70tLrMVL5H.png',\n",
              " '/tmp/rockpaperscissors/cek/paper/ntumvg6vWpT6qIal.png',\n",
              " '/tmp/rockpaperscissors/cek/paper/CrEzO2508GiIMFrx.png',\n",
              " '/tmp/rockpaperscissors/cek/paper/yB4dN62hOf4QeWGy.png',\n",
              " '/tmp/rockpaperscissors/cek/paper/Ze6bn38U5XECyORF.png',\n",
              " '/tmp/rockpaperscissors/cek/paper/zz1yffW197uYO6DI.png',\n",
              " '/tmp/rockpaperscissors/cek/paper/68QZtdP6UaIcIE55.png',\n",
              " '/tmp/rockpaperscissors/cek/paper/ObnNNP8S6dH3IxIS.png',\n",
              " '/tmp/rockpaperscissors/cek/paper/SoqluLecSTBcuyoS.png',\n",
              " '/tmp/rockpaperscissors/cek/paper/7fRLxoheLluOwCkp.png',\n",
              " '/tmp/rockpaperscissors/cek/paper/iGiF1suI8wXP6A2r.png',\n",
              " '/tmp/rockpaperscissors/cek/paper/hfYfNNtqkFzF9BE4.png',\n",
              " '/tmp/rockpaperscissors/cek/paper/gR2aEiEX8CzCtyBN.png',\n",
              " '/tmp/rockpaperscissors/cek/paper/X3iDu3E3UCW1w1Cd.png',\n",
              " '/tmp/rockpaperscissors/cek/paper/QASICiZe79sFTXBz.png',\n",
              " '/tmp/rockpaperscissors/cek/paper/Miw8prUoiVMVG2D4.png',\n",
              " '/tmp/rockpaperscissors/cek/paper/6q2PxM8Kk16UxoMY.png',\n",
              " '/tmp/rockpaperscissors/cek/paper/7Vor5Uo4DweXkpE7.png',\n",
              " '/tmp/rockpaperscissors/cek/paper/vPvoQzBR7Paf5Jml.png',\n",
              " '/tmp/rockpaperscissors/cek/paper/D9nbrQLDSgDMNh3G.png',\n",
              " '/tmp/rockpaperscissors/cek/paper/NnWvTxntBJ5mFY73.png',\n",
              " '/tmp/rockpaperscissors/cek/paper/nGxiCAryWhadfu7W.png',\n",
              " '/tmp/rockpaperscissors/cek/paper/LAhqdrhPNg3ZLxpr.png',\n",
              " '/tmp/rockpaperscissors/cek/paper/U5WsclDnMxnOTgGT.png',\n",
              " '/tmp/rockpaperscissors/cek/paper/XnvU9UjrhVwfnSgj.png',\n",
              " '/tmp/rockpaperscissors/cek/paper/BbOoLEGslGMBu7sj.png',\n",
              " '/tmp/rockpaperscissors/cek/paper/pwM1GeKjG7KE4i75.png',\n",
              " '/tmp/rockpaperscissors/cek/paper/bPTh8OjfiaJfzdcw.png',\n",
              " '/tmp/rockpaperscissors/cek/paper/UHyVkisiFMmasl7b.png',\n",
              " '/tmp/rockpaperscissors/cek/paper/BLqL31aC5YLmx3uF.png',\n",
              " '/tmp/rockpaperscissors/cek/paper/BVfw3Er2AUBqREYJ.png',\n",
              " '/tmp/rockpaperscissors/cek/paper/84JL84r6Jcpp5Udi.png',\n",
              " '/tmp/rockpaperscissors/cek/paper/qRNjm8INtwezm9Yd.png',\n",
              " '/tmp/rockpaperscissors/cek/paper/n5NXfZTRonR4iOr0.png',\n",
              " '/tmp/rockpaperscissors/cek/paper/AqNY2b7NX9Ce3CjZ.png',\n",
              " '/tmp/rockpaperscissors/cek/paper/jqQlxUsZOssnmdWL.png',\n",
              " '/tmp/rockpaperscissors/cek/paper/CIN4oPYURMvc4xTb.png',\n",
              " '/tmp/rockpaperscissors/cek/paper/3sKeYzYsjbWQVhc4.png',\n",
              " '/tmp/rockpaperscissors/cek/paper/FltCm1ep2lcnsOYz.png',\n",
              " '/tmp/rockpaperscissors/cek/paper/3tNHP8R9YHru011u.png',\n",
              " '/tmp/rockpaperscissors/cek/paper/3tyVmhojjwETaf1u.png',\n",
              " '/tmp/rockpaperscissors/cek/paper/hxUxn67g42jOHGHi.png',\n",
              " '/tmp/rockpaperscissors/cek/paper/54xah1BB0YTQS3Ib.png',\n",
              " '/tmp/rockpaperscissors/cek/paper/JbnPCQTbu7AS9jvo.png',\n",
              " '/tmp/rockpaperscissors/cek/paper/9giVcOVtFf85mQZd.png',\n",
              " '/tmp/rockpaperscissors/cek/paper/WUJ02oAbtzoPF4oo.png',\n",
              " '/tmp/rockpaperscissors/cek/paper/KqCGmJ8WCrqE5Uvg.png',\n",
              " '/tmp/rockpaperscissors/cek/paper/cf9L4KKsfsFpRrYA.png',\n",
              " '/tmp/rockpaperscissors/cek/paper/xnLyw2TBZF8e2vcr.png',\n",
              " '/tmp/rockpaperscissors/cek/paper/XOWPFbuwpaJaEv9o.png',\n",
              " '/tmp/rockpaperscissors/cek/paper/pHx4pvFv4zXPDI1w.png',\n",
              " '/tmp/rockpaperscissors/cek/paper/77rce5yVvVPIPmp8.png',\n",
              " '/tmp/rockpaperscissors/cek/paper/yfoLtt4c7Rzc5VOW.png',\n",
              " '/tmp/rockpaperscissors/cek/paper/dZh2VMRu9nRGHhYL.png',\n",
              " '/tmp/rockpaperscissors/cek/paper/KOlOsNsrUdQonYpp.png',\n",
              " '/tmp/rockpaperscissors/cek/paper/pRZml1c5DSIzYVxA.png',\n",
              " '/tmp/rockpaperscissors/cek/paper/wfpI2zfWOeQbwd1f.png',\n",
              " '/tmp/rockpaperscissors/cek/paper/7ZGsbIMypDIEZxR0.png',\n",
              " '/tmp/rockpaperscissors/cek/paper/SDQQfzHl47yNqA6K.png',\n",
              " '/tmp/rockpaperscissors/cek/paper/n1H2YStjFsCwmlYz.png',\n",
              " '/tmp/rockpaperscissors/cek/paper/q35FqG8h9VCDbQ1J.png',\n",
              " '/tmp/rockpaperscissors/cek/paper/UmipL2kv9TdDdryZ.png',\n",
              " '/tmp/rockpaperscissors/cek/paper/ywXiLajxMzhy7BST.png',\n",
              " '/tmp/rockpaperscissors/cek/paper/ldGrLw1rlUq1nHuw.png',\n",
              " '/tmp/rockpaperscissors/cek/paper/Je4YZuaXlY4KaAfQ.png',\n",
              " '/tmp/rockpaperscissors/cek/paper/KPJ371erJ0RUKNAX.png',\n",
              " '/tmp/rockpaperscissors/cek/paper/3MMu7EXUtM6aEtXU.png',\n",
              " '/tmp/rockpaperscissors/cek/paper/D3mbFhVy7zFkZEtV.png',\n",
              " '/tmp/rockpaperscissors/cek/paper/52nvTykEONIdmqQI.png',\n",
              " '/tmp/rockpaperscissors/cek/paper/C9tAvywdtjDTnllg.png',\n",
              " '/tmp/rockpaperscissors/cek/paper/k5n1w4gdm1G27rDk.png',\n",
              " '/tmp/rockpaperscissors/cek/paper/A0Dgq561RAiluT9p.png',\n",
              " '/tmp/rockpaperscissors/cek/paper/cMbbpVIgFU95R4tO.png',\n",
              " '/tmp/rockpaperscissors/cek/paper/OSEIPDjPzHw3gKjc.png',\n",
              " '/tmp/rockpaperscissors/cek/paper/OdfDTwgPVdW9XbE7.png',\n",
              " '/tmp/rockpaperscissors/cek/paper/8cUuoeM7qSsAGoOv.png',\n",
              " '/tmp/rockpaperscissors/cek/paper/UqMn3TJPZRf0px46.png',\n",
              " '/tmp/rockpaperscissors/cek/paper/0Og76sl5CJhbxWWx.png',\n",
              " '/tmp/rockpaperscissors/cek/paper/VstDOeRm7czrAOO9.png',\n",
              " '/tmp/rockpaperscissors/cek/paper/1jHtb93pI8f6pfKo.png',\n",
              " '/tmp/rockpaperscissors/cek/paper/FwR0aXsgOZ5KHDjH.png',\n",
              " '/tmp/rockpaperscissors/cek/paper/NS5CJKNsJa9jr5j4.png',\n",
              " '/tmp/rockpaperscissors/cek/paper/e6blzPfvGcrcHaKl.png',\n",
              " '/tmp/rockpaperscissors/cek/paper/TnoLyTMw8xPdz0ck.png',\n",
              " '/tmp/rockpaperscissors/cek/paper/aac4C8FFlVQw6aGM.png',\n",
              " '/tmp/rockpaperscissors/cek/paper/FxLuxwBp9Hw2th2O.png',\n",
              " '/tmp/rockpaperscissors/cek/paper/sAEYBhcNfJgAZTD6.png',\n",
              " '/tmp/rockpaperscissors/cek/paper/C0WynzBAhXQGSywJ.png',\n",
              " '/tmp/rockpaperscissors/cek/paper/SPx9aUguwNqxqPVS.png',\n",
              " '/tmp/rockpaperscissors/cek/paper/LYirpnRmbCGN6T7O.png',\n",
              " '/tmp/rockpaperscissors/cek/paper/tiS1ECooPwR5IvFK.png',\n",
              " '/tmp/rockpaperscissors/cek/paper/lGIPlKIVgwrDC17U.png',\n",
              " '/tmp/rockpaperscissors/cek/paper/fSWSXO9fumLluiAF.png',\n",
              " '/tmp/rockpaperscissors/cek/paper/Qxx5l8WCNBjMb5xI.png',\n",
              " '/tmp/rockpaperscissors/cek/paper/N3RjXoHuCkTs2Prd.png',\n",
              " '/tmp/rockpaperscissors/cek/paper/UOW45qbyvti8nBHV.png',\n",
              " '/tmp/rockpaperscissors/cek/paper/V3Z0tEoM7Cq761eZ.png',\n",
              " '/tmp/rockpaperscissors/cek/paper/L2oIlMxDTToJYUvV.png',\n",
              " '/tmp/rockpaperscissors/cek/paper/qs7Zi0icFErU0fsZ.png',\n",
              " '/tmp/rockpaperscissors/cek/paper/sak9CBkECbg1PSLz.png',\n",
              " '/tmp/rockpaperscissors/cek/paper/kmBByXdkwf5Vro8P.png',\n",
              " '/tmp/rockpaperscissors/cek/paper/UWq276y40jnVYaPC.png',\n",
              " '/tmp/rockpaperscissors/cek/paper/a45DJKHJdnCFhX5X.png',\n",
              " '/tmp/rockpaperscissors/cek/paper/dPSQ4TKPBJyjv6cH.png',\n",
              " '/tmp/rockpaperscissors/cek/paper/aJeRqPY3UVBErDTY.png',\n",
              " '/tmp/rockpaperscissors/cek/paper/Arbkrts1pXpDNgFV.png',\n",
              " '/tmp/rockpaperscissors/cek/paper/gVd3f9CZNll3QS8l.png',\n",
              " '/tmp/rockpaperscissors/cek/paper/tW1oIjn0hlGLToAY.png',\n",
              " '/tmp/rockpaperscissors/cek/paper/t2SdNfWDiXGLJPBA.png',\n",
              " '/tmp/rockpaperscissors/cek/paper/oAvUHooYsSpFid0p.png',\n",
              " '/tmp/rockpaperscissors/cek/paper/Ih5Z5Z3xFZ17IcZS.png',\n",
              " '/tmp/rockpaperscissors/cek/paper/w3fJMYnDDxw5q00K.png',\n",
              " '/tmp/rockpaperscissors/cek/paper/W4QtOYoG8ThbcmsY.png',\n",
              " '/tmp/rockpaperscissors/cek/paper/OhkFvTOiBqphyG0I.png',\n",
              " '/tmp/rockpaperscissors/cek/paper/y9DoLrI4Hlh2EUts.png',\n",
              " '/tmp/rockpaperscissors/cek/paper/rSRKkten7Ffx6bEj.png',\n",
              " '/tmp/rockpaperscissors/cek/paper/ZnuLAMdyI9xJCcKE.png',\n",
              " '/tmp/rockpaperscissors/cek/paper/s4dtRIGK3emNyjrO.png',\n",
              " '/tmp/rockpaperscissors/cek/paper/0eqArS2GgsBeqgSn.png',\n",
              " '/tmp/rockpaperscissors/cek/paper/nvCwoV9k3ym5N0JA.png',\n",
              " '/tmp/rockpaperscissors/cek/paper/V9v5VHsYgQOVnzo2.png',\n",
              " '/tmp/rockpaperscissors/cek/paper/DDHIkmyeaJPV7k0A.png',\n",
              " '/tmp/rockpaperscissors/cek/paper/4IwJ2iL6pFz5ARWA.png',\n",
              " '/tmp/rockpaperscissors/cek/paper/RqdXcCyqmXMxSDxn.png',\n",
              " '/tmp/rockpaperscissors/cek/paper/QqPSoi6Vj2Vbua3V.png',\n",
              " '/tmp/rockpaperscissors/cek/paper/aICabYNb79bdS6Mu.png',\n",
              " '/tmp/rockpaperscissors/cek/paper/FqTkhXfEVeaGHReH.png',\n",
              " '/tmp/rockpaperscissors/cek/paper/6NzgMmSELzk3WtZh.png',\n",
              " '/tmp/rockpaperscissors/cek/paper/x8fNY0V8O2CJ9vaY.png',\n",
              " '/tmp/rockpaperscissors/cek/paper/hWVwQVI74lc5zgyK.png',\n",
              " '/tmp/rockpaperscissors/cek/paper/NKNFgMn2Ik3Y9XuX.png',\n",
              " '/tmp/rockpaperscissors/cek/paper/H8n0niVYdIGNGE0d.png',\n",
              " '/tmp/rockpaperscissors/cek/paper/zQvuYPyUR7gXdqXE.png',\n",
              " '/tmp/rockpaperscissors/cek/paper/5NsmQol0TP7h80bh.png',\n",
              " '/tmp/rockpaperscissors/cek/paper/KGiyDw5Ryx3WjjSZ.png',\n",
              " '/tmp/rockpaperscissors/cek/paper/EJ42U85HcmJV7JVm.png',\n",
              " '/tmp/rockpaperscissors/cek/paper/eASnEW16rlMUPMf3.png',\n",
              " '/tmp/rockpaperscissors/cek/paper/MmzlgKI366LYX3fe.png',\n",
              " '/tmp/rockpaperscissors/cek/paper/7I1fABs6SL1T4MNb.png',\n",
              " '/tmp/rockpaperscissors/cek/paper/HYIh5ipF4bN1futQ.png',\n",
              " '/tmp/rockpaperscissors/cek/paper/nsbCG572TtIVkjKn.png',\n",
              " '/tmp/rockpaperscissors/cek/paper/oBKuveyTYAhqtKSw.png',\n",
              " '/tmp/rockpaperscissors/cek/paper/Nm8PHXHrGlZy0d6Q.png',\n",
              " '/tmp/rockpaperscissors/cek/paper/RW8BP64V5NC04QWf.png',\n",
              " '/tmp/rockpaperscissors/cek/paper/QKFJL22hutlivVGa.png',\n",
              " '/tmp/rockpaperscissors/cek/paper/axwcCc4rC8ySUtML.png',\n",
              " '/tmp/rockpaperscissors/cek/paper/QLXEsveWG3vywKfy.png',\n",
              " '/tmp/rockpaperscissors/cek/paper/fjITlTb11LELvo3e.png',\n",
              " '/tmp/rockpaperscissors/cek/paper/dIg7Ds4xEzk0pyWZ.png',\n",
              " '/tmp/rockpaperscissors/cek/paper/UQIJiOYi6zCaIeue.png',\n",
              " '/tmp/rockpaperscissors/cek/paper/cOHWfHkyo8sqWnpW.png',\n",
              " '/tmp/rockpaperscissors/cek/paper/znZ3UHvUM8ySVpDR.png',\n",
              " '/tmp/rockpaperscissors/cek/paper/KJ77yLPN943SrPZW.png',\n",
              " '/tmp/rockpaperscissors/cek/paper/0cb6cVL8pkfi4wF6.png',\n",
              " '/tmp/rockpaperscissors/cek/paper/ZveWRNmdKejc1c4w.png',\n",
              " '/tmp/rockpaperscissors/cek/paper/89dWYgfIZm624Pf6.png',\n",
              " '/tmp/rockpaperscissors/cek/paper/PbqPTUSB4HxBVDZZ.png',\n",
              " '/tmp/rockpaperscissors/cek/paper/aeVtGl2LQBr831P5.png',\n",
              " '/tmp/rockpaperscissors/cek/paper/7PSJU8kbZf8S6FRW.png',\n",
              " '/tmp/rockpaperscissors/cek/paper/qZX4Zcms0Ffpe8v7.png',\n",
              " '/tmp/rockpaperscissors/cek/paper/9xyvz1JbPwNqtLgH.png',\n",
              " '/tmp/rockpaperscissors/cek/paper/i47BmmqwUa4y0jIP.png',\n",
              " '/tmp/rockpaperscissors/cek/paper/Su03KsBNHrCVUXli.png',\n",
              " '/tmp/rockpaperscissors/cek/paper/ClP1hwm5k2IQsG1B.png',\n",
              " '/tmp/rockpaperscissors/cek/paper/1uoW7QcH2qAgCTxv.png',\n",
              " '/tmp/rockpaperscissors/cek/paper/a0CaFEDoDB7qeyhN.png',\n",
              " '/tmp/rockpaperscissors/cek/paper/fPwDPzGZ5JeY0rb9.png',\n",
              " '/tmp/rockpaperscissors/cek/paper/URj0hmH1Y9lNObL9.png',\n",
              " '/tmp/rockpaperscissors/cek/paper/PLvidx6rZDuRENbv.png',\n",
              " '/tmp/rockpaperscissors/cek/paper/yPnREvUeAGYRKi7V.png',\n",
              " '/tmp/rockpaperscissors/cek/paper/vHbB53ZFtZoNcvAM.png',\n",
              " '/tmp/rockpaperscissors/cek/paper/5Iz9WPYz1C3PKWxj.png',\n",
              " '/tmp/rockpaperscissors/cek/paper/wKiW95hiPu8zQhwV.png',\n",
              " '/tmp/rockpaperscissors/cek/paper/b8dw4ZOgMTx2h1xI.png',\n",
              " '/tmp/rockpaperscissors/cek/paper/P0BIztnCzZ3StLD1.png',\n",
              " '/tmp/rockpaperscissors/cek/paper/PDV8vSlSFdej3jNx.png',\n",
              " '/tmp/rockpaperscissors/cek/paper/BI9YnLkJ5wFZe6w8.png',\n",
              " '/tmp/rockpaperscissors/cek/paper/GelC88IvDZoRejHp.png',\n",
              " '/tmp/rockpaperscissors/cek/paper/rrSpAVrlixKrTC1T.png',\n",
              " '/tmp/rockpaperscissors/cek/paper/0a3UtNzl5Ll3sq8K.png',\n",
              " '/tmp/rockpaperscissors/cek/paper/nmkNauqVsM2JUvok.png',\n",
              " '/tmp/rockpaperscissors/cek/paper/B9WSmSgclFPB3TOL.png',\n",
              " '/tmp/rockpaperscissors/cek/paper/eLBTZkvB4E951ml0.png',\n",
              " '/tmp/rockpaperscissors/cek/paper/khFWD3MPEKPitVyA.png',\n",
              " '/tmp/rockpaperscissors/cek/paper/4aWP3XumkgwZtqZ7.png',\n",
              " '/tmp/rockpaperscissors/cek/paper/LpASHQ03atiBeyRw.png',\n",
              " '/tmp/rockpaperscissors/cek/paper/zGty6p4zGTzRip73.png',\n",
              " '/tmp/rockpaperscissors/cek/paper/ATs4aFUIODixPnMI.png',\n",
              " '/tmp/rockpaperscissors/cek/paper/VUx1G75w9CbeAJUx.png',\n",
              " '/tmp/rockpaperscissors/cek/paper/ukOGooYiFOfJHNrx.png',\n",
              " '/tmp/rockpaperscissors/cek/paper/P1STllnKDD05zo29.png',\n",
              " '/tmp/rockpaperscissors/cek/paper/JApmimWQx0vFx1qw.png',\n",
              " '/tmp/rockpaperscissors/cek/paper/EuU83pQABhf4v0AF.png',\n",
              " '/tmp/rockpaperscissors/cek/paper/Rxmuq5Y6dw22QESt.png',\n",
              " '/tmp/rockpaperscissors/cek/paper/aKUFn8PEF7LP8BaX.png',\n",
              " '/tmp/rockpaperscissors/cek/paper/V7gDBwuUctk8myTw.png',\n",
              " '/tmp/rockpaperscissors/cek/paper/VfIYGbOFu36N6MDw.png',\n",
              " '/tmp/rockpaperscissors/cek/paper/3JN7OPsnxDBpcVeD.png',\n",
              " '/tmp/rockpaperscissors/cek/paper/BH9zAUdmmjlfXwtS.png',\n",
              " '/tmp/rockpaperscissors/cek/paper/UJXhVbWUgUnzedxP.png',\n",
              " '/tmp/rockpaperscissors/cek/paper/XPvzu0bXUw8THjbU.png',\n",
              " '/tmp/rockpaperscissors/cek/paper/4484TuJc6AH7pDOG.png',\n",
              " '/tmp/rockpaperscissors/cek/paper/qsRQNgddFhV2Mlnn.png',\n",
              " '/tmp/rockpaperscissors/cek/paper/RlpqfQnTgM6AxUNs.png',\n",
              " '/tmp/rockpaperscissors/cek/paper/LI47bUY9rR60z73q.png',\n",
              " '/tmp/rockpaperscissors/cek/paper/oJi50DvlvFg4wTio.png',\n",
              " '/tmp/rockpaperscissors/cek/paper/nPEUpKKphLYH3Bjy.png',\n",
              " '/tmp/rockpaperscissors/cek/paper/v6Ypsa9vPurMnl20.png',\n",
              " '/tmp/rockpaperscissors/cek/paper/KAyKztBfGIWm4qN7.png',\n",
              " '/tmp/rockpaperscissors/cek/paper/oLcpS2BYyqZLBj9P.png',\n",
              " '/tmp/rockpaperscissors/cek/paper/BoXJ7o2SeSRRfuAH.png',\n",
              " '/tmp/rockpaperscissors/cek/paper/ZULuRlvYzTJM8jC3.png',\n",
              " '/tmp/rockpaperscissors/cek/paper/EJ7cNnnea5yCEaOd.png',\n",
              " '/tmp/rockpaperscissors/cek/paper/cXZYoC2Bu8SeHasE.png',\n",
              " '/tmp/rockpaperscissors/cek/paper/xhKyuxHPC3RnoLD0.png',\n",
              " '/tmp/rockpaperscissors/cek/paper/tFuz8mF78pYT6hKS.png',\n",
              " '/tmp/rockpaperscissors/cek/paper/oKx22gb6XjI0aXHR.png',\n",
              " '/tmp/rockpaperscissors/cek/paper/JOsGCJTsKvKGNHN1.png',\n",
              " '/tmp/rockpaperscissors/cek/paper/QVIiXr87PkeldzZM.png',\n",
              " '/tmp/rockpaperscissors/cek/paper/qtfGt3JjA0Orrg9v.png',\n",
              " '/tmp/rockpaperscissors/cek/paper/y2auZRkrUIi0wvd2.png',\n",
              " '/tmp/rockpaperscissors/cek/paper/8X1BUL9w2OMExPy5.png',\n",
              " '/tmp/rockpaperscissors/cek/paper/jZe5ePOjxcQEJitP.png',\n",
              " '/tmp/rockpaperscissors/cek/paper/B6dJfDThlXx80Uk6.png',\n",
              " '/tmp/rockpaperscissors/cek/paper/UGHu0zv6pWOmgBWn.png',\n",
              " '/tmp/rockpaperscissors/cek/paper/c4FpTJmUl8wtm4n3.png',\n",
              " '/tmp/rockpaperscissors/cek/paper/oiJhtTsTDkiAcHeR.png',\n",
              " '/tmp/rockpaperscissors/cek/paper/90GH8JQWUw9PUnlA.png',\n",
              " '/tmp/rockpaperscissors/cek/paper/HarpXSxVfoAJ9cFe.png',\n",
              " '/tmp/rockpaperscissors/cek/paper/rX4dcSySbz56p4dk.png',\n",
              " '/tmp/rockpaperscissors/cek/paper/pfyaiU10n2EvAwgw.png',\n",
              " '/tmp/rockpaperscissors/cek/paper/xsM5n0KOqwb5R58V.png',\n",
              " '/tmp/rockpaperscissors/cek/paper/2UKnsncgPodQLOFR.png',\n",
              " '/tmp/rockpaperscissors/cek/paper/4ZoU4nouZzb9G2MI.png',\n",
              " '/tmp/rockpaperscissors/cek/paper/Dvamqz9JlSMySW1i.png',\n",
              " '/tmp/rockpaperscissors/cek/paper/5Cy2fFOaWMFwa5iu.png',\n",
              " '/tmp/rockpaperscissors/cek/paper/FmDdvclwy9Wc1zfc.png',\n",
              " '/tmp/rockpaperscissors/cek/paper/StyclBeCFwYGuttl.png',\n",
              " '/tmp/rockpaperscissors/cek/paper/M4h0o8DAzyOpmgSM.png',\n",
              " '/tmp/rockpaperscissors/cek/paper/RmTijOM3U31zKnrY.png',\n",
              " '/tmp/rockpaperscissors/cek/paper/BTG0fjXM09DyD4sh.png',\n",
              " '/tmp/rockpaperscissors/cek/paper/kz9TBAHLFXGnHCiF.png',\n",
              " '/tmp/rockpaperscissors/cek/paper/JKN8VKp7pfMEQdBZ.png',\n",
              " '/tmp/rockpaperscissors/cek/paper/aINwMVFw8UopgTOm.png',\n",
              " '/tmp/rockpaperscissors/cek/paper/Ec6WrF6Soj4REPk7.png',\n",
              " '/tmp/rockpaperscissors/cek/paper/ubb6xwgONJP3xBbv.png',\n",
              " '/tmp/rockpaperscissors/cek/paper/R7y8PxDKzaAd0uUQ.png',\n",
              " '/tmp/rockpaperscissors/cek/paper/2PiUTczN5Ez4VreF.png',\n",
              " '/tmp/rockpaperscissors/cek/paper/5eRezaxzYX8Canq0.png',\n",
              " '/tmp/rockpaperscissors/cek/paper/2IOsxsG8AaxntdJM.png',\n",
              " '/tmp/rockpaperscissors/cek/paper/ISW7mRK3Wu6ik0eH.png',\n",
              " '/tmp/rockpaperscissors/cek/paper/QWT9FOhLABPyKIUA.png',\n",
              " '/tmp/rockpaperscissors/cek/paper/fwnVVskCSNkB9LUL.png',\n",
              " '/tmp/rockpaperscissors/cek/paper/bddldJIGmQP5CSLD.png',\n",
              " '/tmp/rockpaperscissors/cek/paper/jaxChUvakWAN9eTs.png',\n",
              " '/tmp/rockpaperscissors/cek/paper/AjwddXm0ttm7Ts5J.png',\n",
              " '/tmp/rockpaperscissors/cek/paper/Wcg4nsnlWrhxgyJg.png',\n",
              " '/tmp/rockpaperscissors/cek/paper/r9sXHEyVJVCtshSA.png',\n",
              " '/tmp/rockpaperscissors/cek/paper/IXh9BTFQQ6AIaBpr.png',\n",
              " '/tmp/rockpaperscissors/cek/paper/Y0XtXW0pn979O6KK.png',\n",
              " '/tmp/rockpaperscissors/cek/paper/KSueOZE0QWbJClvK.png',\n",
              " '/tmp/rockpaperscissors/cek/paper/AtfMvZ19yfJJZapD.png',\n",
              " '/tmp/rockpaperscissors/cek/paper/CxcQ3XRBjkkmZ9b8.png']"
            ]
          },
          "metadata": {
            "tags": []
          },
          "execution_count": 7
        }
      ]
    },
    {
      "cell_type": "code",
      "metadata": {
        "id": "NpHKiSpBIvve"
      },
      "source": [
        "from tensorflow.keras.preprocessing.image import ImageDataGenerator\n",
        " \n",
        "train_datagen = ImageDataGenerator(\n",
        "                    rescale=1./255,\n",
        "                    rotation_range=20,\n",
        "                    horizontal_flip=True,\n",
        "                    shear_range = 0.2,\n",
        "                    fill_mode = 'nearest')\n",
        " \n",
        "test_datagen = ImageDataGenerator(\n",
        "                    rescale=1./255,\n",
        "                    rotation_range=20,\n",
        "                    horizontal_flip=True,\n",
        "                    shear_range = 0.2,\n",
        "                    fill_mode = 'nearest')"
      ],
      "execution_count": null,
      "outputs": []
    },
    {
      "cell_type": "code",
      "metadata": {
        "colab": {
          "base_uri": "https://localhost:8080/"
        },
        "id": "6_BILWzdIy6R",
        "outputId": "53ab2f56-4d3f-4b05-d29f-210a00253bac"
      },
      "source": [
        "train_generator = train_datagen.flow_from_directory(\n",
        "        '/tmp/rockpaperscissors/latih',  \n",
        "        target_size=(150, 150),  \n",
        "        batch_size=4,\n",
        "        class_mode ='categorical'     )\n",
        " \n",
        "validation_generator = test_datagen.flow_from_directory(\n",
        "        '/tmp/rockpaperscissors/cek', \n",
        "        target_size=(150, 150), \n",
        "        batch_size=4,\n",
        "        class_mode ='categorical')"
      ],
      "execution_count": null,
      "outputs": [
        {
          "output_type": "stream",
          "text": [
            "Found 1312 images belonging to 3 classes.\n",
            "Found 876 images belonging to 3 classes.\n"
          ],
          "name": "stdout"
        }
      ]
    },
    {
      "cell_type": "markdown",
      "metadata": {
        "id": "STbAgM5omkKw"
      },
      "source": [
        "Making tf layer configuration for training the dataset"
      ]
    },
    {
      "cell_type": "code",
      "metadata": {
        "id": "RzMJkG29j07a"
      },
      "source": [
        "model = tf.keras.models.Sequential()\n",
        "model.add(tf.keras.layers.Conv2D(32, (3, 3), input_shape=(150, 150, 3)))\n",
        "model.add(tf.keras.layers.Activation('relu'))\n",
        "model.add(tf.keras.layers.MaxPooling2D(pool_size=(2, 2)))\n",
        "\n",
        "model.add(tf.keras.layers.Conv2D(32, (3, 3)))\n",
        "model.add(tf.keras.layers.Activation('relu'))\n",
        "model.add(tf.keras.layers.MaxPooling2D(pool_size=(2, 2)))\n",
        "\n",
        "model.add(tf.keras.layers.Conv2D(64, (3, 3)))\n",
        "model.add(tf.keras.layers.Activation('relu'))\n",
        "model.add(tf.keras.layers.MaxPooling2D(pool_size=(2, 2)))\n",
        "\n",
        "model.add(tf.keras.layers.Flatten()) \n",
        "model.add(tf.keras.layers.Dense(64))\n",
        "model.add(tf.keras.layers.Activation('relu'))\n",
        "model.add(tf.keras.layers.Dropout(0.5))\n",
        "model.add(tf.keras.layers.Dense(3))\n",
        "model.add(tf.keras.layers.Activation('softmax'))\n",
        "\n",
        "model.compile(\n",
        "    optimizer=tf.optimizers.Adam(),\n",
        "    loss='categorical_crossentropy',\n",
        "    metrics=[\"accuracy\"],\n",
        ")\n"
      ],
      "execution_count": null,
      "outputs": []
    },
    {
      "cell_type": "code",
      "metadata": {
        "colab": {
          "base_uri": "https://localhost:8080/"
        },
        "id": "dHpy5oVQh0TJ",
        "outputId": "05b1a450-684b-4ab7-91ee-0841548606ad"
      },
      "source": [
        "model.summary()"
      ],
      "execution_count": null,
      "outputs": [
        {
          "output_type": "stream",
          "text": [
            "Model: \"sequential\"\n",
            "_________________________________________________________________\n",
            "Layer (type)                 Output Shape              Param #   \n",
            "=================================================================\n",
            "conv2d (Conv2D)              (None, 148, 148, 32)      896       \n",
            "_________________________________________________________________\n",
            "activation (Activation)      (None, 148, 148, 32)      0         \n",
            "_________________________________________________________________\n",
            "max_pooling2d (MaxPooling2D) (None, 74, 74, 32)        0         \n",
            "_________________________________________________________________\n",
            "conv2d_1 (Conv2D)            (None, 72, 72, 32)        9248      \n",
            "_________________________________________________________________\n",
            "activation_1 (Activation)    (None, 72, 72, 32)        0         \n",
            "_________________________________________________________________\n",
            "max_pooling2d_1 (MaxPooling2 (None, 36, 36, 32)        0         \n",
            "_________________________________________________________________\n",
            "conv2d_2 (Conv2D)            (None, 34, 34, 64)        18496     \n",
            "_________________________________________________________________\n",
            "activation_2 (Activation)    (None, 34, 34, 64)        0         \n",
            "_________________________________________________________________\n",
            "max_pooling2d_2 (MaxPooling2 (None, 17, 17, 64)        0         \n",
            "_________________________________________________________________\n",
            "flatten (Flatten)            (None, 18496)             0         \n",
            "_________________________________________________________________\n",
            "dense (Dense)                (None, 64)                1183808   \n",
            "_________________________________________________________________\n",
            "activation_3 (Activation)    (None, 64)                0         \n",
            "_________________________________________________________________\n",
            "dropout (Dropout)            (None, 64)                0         \n",
            "_________________________________________________________________\n",
            "dense_1 (Dense)              (None, 3)                 195       \n",
            "_________________________________________________________________\n",
            "activation_4 (Activation)    (None, 3)                 0         \n",
            "=================================================================\n",
            "Total params: 1,212,643\n",
            "Trainable params: 1,212,643\n",
            "Non-trainable params: 0\n",
            "_________________________________________________________________\n"
          ],
          "name": "stdout"
        }
      ]
    },
    {
      "cell_type": "markdown",
      "metadata": {
        "id": "7nMM4_u0m4gl"
      },
      "source": [
        "Training process"
      ]
    },
    {
      "cell_type": "code",
      "metadata": {
        "colab": {
          "base_uri": "https://localhost:8080/"
        },
        "id": "5NbXyQC4JJLW",
        "outputId": "3d1702e7-1d79-423e-f852-3aef8e6133c9"
      },
      "source": [
        "# latih model dengan model.fit \n",
        "model.fit(\n",
        "      train_generator,\n",
        "      steps_per_epoch=24, \n",
        "      epochs=150, \n",
        "      validation_data=validation_generator, \n",
        "      validation_steps=8, \n",
        "      verbose=2)\n"
      ],
      "execution_count": null,
      "outputs": [
        {
          "output_type": "stream",
          "text": [
            "Epoch 1/150\n",
            "24/24 - 4s - loss: 0.2328 - accuracy: 0.9271 - val_loss: 0.0406 - val_accuracy: 1.0000\n",
            "Epoch 2/150\n",
            "24/24 - 4s - loss: 0.2514 - accuracy: 0.8958 - val_loss: 0.0372 - val_accuracy: 1.0000\n",
            "Epoch 3/150\n",
            "24/24 - 4s - loss: 0.1627 - accuracy: 0.9479 - val_loss: 0.0651 - val_accuracy: 0.9688\n",
            "Epoch 4/150\n",
            "24/24 - 4s - loss: 0.1747 - accuracy: 0.9479 - val_loss: 0.1786 - val_accuracy: 0.9062\n",
            "Epoch 5/150\n",
            "24/24 - 4s - loss: 0.0742 - accuracy: 0.9688 - val_loss: 0.0995 - val_accuracy: 1.0000\n",
            "Epoch 6/150\n",
            "24/24 - 4s - loss: 0.2338 - accuracy: 0.9375 - val_loss: 0.2036 - val_accuracy: 0.8750\n",
            "Epoch 7/150\n",
            "24/24 - 4s - loss: 0.1591 - accuracy: 0.9688 - val_loss: 0.1200 - val_accuracy: 0.9375\n",
            "Epoch 8/150\n",
            "24/24 - 4s - loss: 0.2681 - accuracy: 0.8854 - val_loss: 0.0530 - val_accuracy: 1.0000\n",
            "Epoch 9/150\n",
            "24/24 - 4s - loss: 0.3133 - accuracy: 0.9167 - val_loss: 0.1991 - val_accuracy: 0.9375\n",
            "Epoch 10/150\n",
            "24/24 - 4s - loss: 0.2235 - accuracy: 0.9167 - val_loss: 0.1741 - val_accuracy: 0.9375\n",
            "Epoch 11/150\n",
            "24/24 - 4s - loss: 0.1618 - accuracy: 0.9479 - val_loss: 0.0968 - val_accuracy: 0.9688\n",
            "Epoch 12/150\n",
            "24/24 - 4s - loss: 0.1602 - accuracy: 0.9479 - val_loss: 0.0900 - val_accuracy: 0.9688\n",
            "Epoch 13/150\n",
            "24/24 - 4s - loss: 0.2385 - accuracy: 0.8854 - val_loss: 0.3119 - val_accuracy: 0.9375\n",
            "Epoch 14/150\n",
            "24/24 - 4s - loss: 0.1543 - accuracy: 0.9375 - val_loss: 0.1159 - val_accuracy: 0.9375\n",
            "Epoch 15/150\n",
            "24/24 - 4s - loss: 0.2367 - accuracy: 0.9062 - val_loss: 0.0877 - val_accuracy: 1.0000\n",
            "Epoch 16/150\n",
            "24/24 - 4s - loss: 0.3006 - accuracy: 0.8438 - val_loss: 0.0417 - val_accuracy: 1.0000\n",
            "Epoch 17/150\n",
            "24/24 - 4s - loss: 0.2681 - accuracy: 0.8854 - val_loss: 0.1149 - val_accuracy: 0.9375\n",
            "Epoch 18/150\n",
            "24/24 - 4s - loss: 0.1556 - accuracy: 0.9271 - val_loss: 0.1127 - val_accuracy: 0.9375\n",
            "Epoch 19/150\n",
            "24/24 - 4s - loss: 0.1699 - accuracy: 0.9479 - val_loss: 0.1615 - val_accuracy: 0.9375\n",
            "Epoch 20/150\n",
            "24/24 - 4s - loss: 0.0715 - accuracy: 0.9688 - val_loss: 0.0344 - val_accuracy: 1.0000\n",
            "Epoch 21/150\n",
            "24/24 - 4s - loss: 0.2159 - accuracy: 0.9479 - val_loss: 0.1552 - val_accuracy: 0.9688\n",
            "Epoch 22/150\n",
            "24/24 - 4s - loss: 0.1168 - accuracy: 0.9583 - val_loss: 0.2424 - val_accuracy: 0.9062\n",
            "Epoch 23/150\n",
            "24/24 - 4s - loss: 0.1308 - accuracy: 0.9479 - val_loss: 0.1934 - val_accuracy: 0.9375\n",
            "Epoch 24/150\n",
            "24/24 - 4s - loss: 0.2059 - accuracy: 0.9479 - val_loss: 0.0607 - val_accuracy: 0.9688\n",
            "Epoch 25/150\n",
            "24/24 - 4s - loss: 0.1134 - accuracy: 0.9583 - val_loss: 0.0339 - val_accuracy: 1.0000\n",
            "Epoch 26/150\n",
            "24/24 - 4s - loss: 0.1165 - accuracy: 0.9479 - val_loss: 0.2754 - val_accuracy: 0.9375\n",
            "Epoch 27/150\n",
            "24/24 - 4s - loss: 0.0706 - accuracy: 0.9688 - val_loss: 0.3535 - val_accuracy: 0.8750\n",
            "Epoch 28/150\n",
            "24/24 - 4s - loss: 0.1453 - accuracy: 0.9479 - val_loss: 0.1071 - val_accuracy: 0.9688\n",
            "Epoch 29/150\n",
            "24/24 - 4s - loss: 0.1181 - accuracy: 0.9479 - val_loss: 0.1179 - val_accuracy: 0.9062\n",
            "Epoch 30/150\n",
            "24/24 - 4s - loss: 0.1191 - accuracy: 0.9583 - val_loss: 0.2500 - val_accuracy: 0.9375\n",
            "Epoch 31/150\n",
            "24/24 - 4s - loss: 0.3014 - accuracy: 0.9062 - val_loss: 0.1071 - val_accuracy: 0.9688\n",
            "Epoch 32/150\n",
            "24/24 - 4s - loss: 0.1558 - accuracy: 0.9167 - val_loss: 0.3212 - val_accuracy: 0.9375\n",
            "Epoch 33/150\n",
            "24/24 - 4s - loss: 0.1573 - accuracy: 0.9583 - val_loss: 0.0295 - val_accuracy: 1.0000\n",
            "Epoch 34/150\n",
            "24/24 - 4s - loss: 0.2560 - accuracy: 0.9271 - val_loss: 0.2166 - val_accuracy: 0.9688\n",
            "Epoch 35/150\n",
            "24/24 - 4s - loss: 0.1071 - accuracy: 0.9479 - val_loss: 0.3025 - val_accuracy: 0.9062\n",
            "Epoch 36/150\n",
            "24/24 - 4s - loss: 0.1238 - accuracy: 0.9583 - val_loss: 0.0651 - val_accuracy: 1.0000\n",
            "Epoch 37/150\n",
            "24/24 - 4s - loss: 0.1333 - accuracy: 0.9583 - val_loss: 0.0187 - val_accuracy: 1.0000\n",
            "Epoch 38/150\n",
            "24/24 - 4s - loss: 0.1090 - accuracy: 0.9688 - val_loss: 0.0201 - val_accuracy: 1.0000\n",
            "Epoch 39/150\n",
            "24/24 - 4s - loss: 0.1433 - accuracy: 0.9583 - val_loss: 0.1356 - val_accuracy: 0.9688\n",
            "Epoch 40/150\n",
            "24/24 - 4s - loss: 0.1984 - accuracy: 0.9167 - val_loss: 0.2575 - val_accuracy: 0.8750\n",
            "Epoch 41/150\n",
            "24/24 - 4s - loss: 0.2198 - accuracy: 0.9062 - val_loss: 0.2426 - val_accuracy: 0.9375\n",
            "Epoch 42/150\n",
            "24/24 - 4s - loss: 0.1114 - accuracy: 0.9583 - val_loss: 0.2780 - val_accuracy: 0.9062\n",
            "Epoch 43/150\n",
            "24/24 - 4s - loss: 0.3008 - accuracy: 0.9375 - val_loss: 0.0225 - val_accuracy: 1.0000\n",
            "Epoch 44/150\n",
            "24/24 - 4s - loss: 0.0759 - accuracy: 0.9896 - val_loss: 0.0761 - val_accuracy: 1.0000\n",
            "Epoch 45/150\n",
            "24/24 - 4s - loss: 0.2380 - accuracy: 0.9271 - val_loss: 0.1405 - val_accuracy: 0.9688\n",
            "Epoch 46/150\n",
            "24/24 - 4s - loss: 0.0972 - accuracy: 0.9688 - val_loss: 0.2400 - val_accuracy: 0.9062\n",
            "Epoch 47/150\n",
            "24/24 - 4s - loss: 0.1005 - accuracy: 0.9583 - val_loss: 0.0392 - val_accuracy: 1.0000\n",
            "Epoch 48/150\n",
            "24/24 - 4s - loss: 0.2905 - accuracy: 0.9167 - val_loss: 0.1671 - val_accuracy: 0.9375\n",
            "Epoch 49/150\n",
            "24/24 - 4s - loss: 0.1619 - accuracy: 0.9271 - val_loss: 0.0409 - val_accuracy: 1.0000\n",
            "Epoch 50/150\n",
            "24/24 - 4s - loss: 0.1376 - accuracy: 0.9271 - val_loss: 0.1159 - val_accuracy: 0.9688\n",
            "Epoch 51/150\n",
            "24/24 - 4s - loss: 0.1067 - accuracy: 0.9688 - val_loss: 0.0323 - val_accuracy: 1.0000\n",
            "Epoch 52/150\n",
            "24/24 - 4s - loss: 0.1346 - accuracy: 0.9583 - val_loss: 0.1205 - val_accuracy: 0.9688\n",
            "Epoch 53/150\n",
            "24/24 - 4s - loss: 0.1159 - accuracy: 0.9583 - val_loss: 0.0603 - val_accuracy: 0.9688\n",
            "Epoch 54/150\n",
            "24/24 - 4s - loss: 0.0512 - accuracy: 0.9896 - val_loss: 0.1339 - val_accuracy: 0.9688\n",
            "Epoch 55/150\n",
            "24/24 - 4s - loss: 0.1671 - accuracy: 0.9271 - val_loss: 0.1625 - val_accuracy: 0.9375\n",
            "Epoch 56/150\n",
            "24/24 - 4s - loss: 0.0874 - accuracy: 0.9583 - val_loss: 0.0058 - val_accuracy: 1.0000\n",
            "Epoch 57/150\n",
            "24/24 - 4s - loss: 0.1480 - accuracy: 0.9375 - val_loss: 0.0205 - val_accuracy: 1.0000\n",
            "Epoch 58/150\n",
            "24/24 - 4s - loss: 0.2859 - accuracy: 0.9167 - val_loss: 0.6246 - val_accuracy: 0.8750\n",
            "Epoch 59/150\n",
            "24/24 - 4s - loss: 0.0944 - accuracy: 0.9792 - val_loss: 0.3079 - val_accuracy: 0.9375\n",
            "Epoch 60/150\n",
            "24/24 - 4s - loss: 0.1398 - accuracy: 0.9688 - val_loss: 0.0372 - val_accuracy: 1.0000\n",
            "Epoch 61/150\n",
            "24/24 - 4s - loss: 0.1748 - accuracy: 0.9479 - val_loss: 0.0483 - val_accuracy: 0.9688\n",
            "Epoch 62/150\n",
            "24/24 - 4s - loss: 0.1508 - accuracy: 0.9896 - val_loss: 0.0968 - val_accuracy: 0.9688\n",
            "Epoch 63/150\n",
            "24/24 - 4s - loss: 0.0985 - accuracy: 0.9479 - val_loss: 0.0316 - val_accuracy: 1.0000\n",
            "Epoch 64/150\n",
            "24/24 - 4s - loss: 0.2316 - accuracy: 0.9167 - val_loss: 0.0776 - val_accuracy: 0.9688\n",
            "Epoch 65/150\n",
            "24/24 - 4s - loss: 0.2278 - accuracy: 0.9167 - val_loss: 0.0675 - val_accuracy: 0.9688\n",
            "Epoch 66/150\n",
            "24/24 - 4s - loss: 0.2813 - accuracy: 0.9167 - val_loss: 0.1036 - val_accuracy: 0.9375\n",
            "Epoch 67/150\n",
            "24/24 - 4s - loss: 0.2223 - accuracy: 0.9271 - val_loss: 0.1007 - val_accuracy: 0.9688\n",
            "Epoch 68/150\n",
            "24/24 - 4s - loss: 0.1989 - accuracy: 0.9167 - val_loss: 0.1288 - val_accuracy: 0.9375\n",
            "Epoch 69/150\n",
            "24/24 - 4s - loss: 0.2194 - accuracy: 0.9375 - val_loss: 0.2148 - val_accuracy: 0.9688\n",
            "Epoch 70/150\n",
            "24/24 - 4s - loss: 0.1193 - accuracy: 0.9583 - val_loss: 0.0486 - val_accuracy: 1.0000\n",
            "Epoch 71/150\n",
            "24/24 - 4s - loss: 0.1168 - accuracy: 0.9583 - val_loss: 0.2569 - val_accuracy: 0.9375\n",
            "Epoch 72/150\n",
            "24/24 - 4s - loss: 0.1988 - accuracy: 0.9479 - val_loss: 0.0366 - val_accuracy: 1.0000\n",
            "Epoch 73/150\n",
            "24/24 - 4s - loss: 0.1057 - accuracy: 0.9583 - val_loss: 0.0285 - val_accuracy: 1.0000\n",
            "Epoch 74/150\n",
            "24/24 - 4s - loss: 0.1381 - accuracy: 0.9479 - val_loss: 0.0391 - val_accuracy: 0.9688\n",
            "Epoch 75/150\n",
            "24/24 - 4s - loss: 0.1346 - accuracy: 0.9479 - val_loss: 0.0601 - val_accuracy: 0.9688\n",
            "Epoch 76/150\n",
            "24/24 - 4s - loss: 0.1727 - accuracy: 0.9167 - val_loss: 0.0639 - val_accuracy: 0.9688\n",
            "Epoch 77/150\n",
            "24/24 - 4s - loss: 0.0773 - accuracy: 0.9792 - val_loss: 0.0168 - val_accuracy: 1.0000\n",
            "Epoch 78/150\n",
            "24/24 - 4s - loss: 0.0636 - accuracy: 0.9792 - val_loss: 0.0073 - val_accuracy: 1.0000\n",
            "Epoch 79/150\n",
            "24/24 - 4s - loss: 0.1462 - accuracy: 0.9479 - val_loss: 0.1565 - val_accuracy: 0.9688\n",
            "Epoch 80/150\n",
            "24/24 - 4s - loss: 0.1384 - accuracy: 0.9583 - val_loss: 0.1116 - val_accuracy: 0.9688\n",
            "Epoch 81/150\n",
            "24/24 - 4s - loss: 0.1550 - accuracy: 0.9271 - val_loss: 0.3750 - val_accuracy: 0.9062\n",
            "Epoch 82/150\n",
            "24/24 - 4s - loss: 0.0460 - accuracy: 0.9896 - val_loss: 0.0256 - val_accuracy: 1.0000\n",
            "Epoch 83/150\n",
            "24/24 - 4s - loss: 0.0914 - accuracy: 0.9583 - val_loss: 0.0388 - val_accuracy: 1.0000\n",
            "Epoch 84/150\n",
            "24/24 - 4s - loss: 0.1286 - accuracy: 0.9688 - val_loss: 0.0114 - val_accuracy: 1.0000\n",
            "Epoch 85/150\n",
            "24/24 - 4s - loss: 0.0189 - accuracy: 1.0000 - val_loss: 0.0217 - val_accuracy: 1.0000\n",
            "Epoch 86/150\n",
            "24/24 - 4s - loss: 0.1361 - accuracy: 0.9479 - val_loss: 0.2010 - val_accuracy: 0.9062\n",
            "Epoch 87/150\n",
            "24/24 - 4s - loss: 0.1242 - accuracy: 0.9583 - val_loss: 0.0410 - val_accuracy: 1.0000\n",
            "Epoch 88/150\n",
            "24/24 - 4s - loss: 0.0796 - accuracy: 0.9688 - val_loss: 0.4094 - val_accuracy: 0.9688\n",
            "Epoch 89/150\n",
            "24/24 - 4s - loss: 0.1282 - accuracy: 0.9583 - val_loss: 0.0295 - val_accuracy: 1.0000\n",
            "Epoch 90/150\n",
            "24/24 - 4s - loss: 0.1394 - accuracy: 0.9792 - val_loss: 0.0642 - val_accuracy: 0.9688\n",
            "Epoch 91/150\n",
            "24/24 - 4s - loss: 0.1011 - accuracy: 0.9792 - val_loss: 0.0030 - val_accuracy: 1.0000\n",
            "Epoch 92/150\n",
            "24/24 - 4s - loss: 0.1708 - accuracy: 0.9167 - val_loss: 0.1166 - val_accuracy: 0.9688\n",
            "Epoch 93/150\n",
            "24/24 - 4s - loss: 0.1272 - accuracy: 0.9479 - val_loss: 0.0121 - val_accuracy: 1.0000\n",
            "Epoch 94/150\n",
            "24/24 - 4s - loss: 0.1701 - accuracy: 0.9479 - val_loss: 0.0758 - val_accuracy: 0.9688\n",
            "Epoch 95/150\n",
            "24/24 - 4s - loss: 0.1887 - accuracy: 0.9375 - val_loss: 0.1611 - val_accuracy: 0.9375\n",
            "Epoch 96/150\n",
            "24/24 - 4s - loss: 0.2185 - accuracy: 0.9271 - val_loss: 0.1209 - val_accuracy: 0.9375\n",
            "Epoch 97/150\n",
            "24/24 - 4s - loss: 0.2039 - accuracy: 0.9271 - val_loss: 0.0260 - val_accuracy: 1.0000\n",
            "Epoch 98/150\n",
            "24/24 - 4s - loss: 0.1284 - accuracy: 0.9375 - val_loss: 0.1274 - val_accuracy: 0.9375\n",
            "Epoch 99/150\n",
            "24/24 - 4s - loss: 0.1627 - accuracy: 0.9271 - val_loss: 0.3685 - val_accuracy: 0.9062\n",
            "Epoch 100/150\n",
            "24/24 - 4s - loss: 0.1247 - accuracy: 0.9792 - val_loss: 0.2210 - val_accuracy: 0.9688\n",
            "Epoch 101/150\n",
            "24/24 - 4s - loss: 0.0897 - accuracy: 0.9896 - val_loss: 0.0185 - val_accuracy: 1.0000\n",
            "Epoch 102/150\n",
            "24/24 - 4s - loss: 0.0745 - accuracy: 0.9688 - val_loss: 0.0363 - val_accuracy: 0.9688\n",
            "Epoch 103/150\n",
            "24/24 - 4s - loss: 0.1156 - accuracy: 0.9688 - val_loss: 0.0539 - val_accuracy: 0.9688\n",
            "Epoch 104/150\n",
            "24/24 - 4s - loss: 0.2352 - accuracy: 0.9375 - val_loss: 0.0517 - val_accuracy: 0.9688\n",
            "Epoch 105/150\n",
            "24/24 - 4s - loss: 0.1063 - accuracy: 0.9896 - val_loss: 0.1523 - val_accuracy: 0.9375\n",
            "Epoch 106/150\n",
            "24/24 - 4s - loss: 0.0747 - accuracy: 0.9688 - val_loss: 0.1149 - val_accuracy: 0.9688\n",
            "Epoch 107/150\n",
            "24/24 - 4s - loss: 0.1581 - accuracy: 0.9583 - val_loss: 0.1744 - val_accuracy: 0.9688\n",
            "Epoch 108/150\n",
            "24/24 - 4s - loss: 0.1931 - accuracy: 0.9375 - val_loss: 0.0310 - val_accuracy: 1.0000\n",
            "Epoch 109/150\n",
            "24/24 - 4s - loss: 0.0977 - accuracy: 0.9688 - val_loss: 0.0597 - val_accuracy: 0.9688\n",
            "Epoch 110/150\n",
            "24/24 - 4s - loss: 0.0358 - accuracy: 0.9896 - val_loss: 0.0204 - val_accuracy: 1.0000\n",
            "Epoch 111/150\n",
            "24/24 - 4s - loss: 0.0816 - accuracy: 0.9792 - val_loss: 0.0050 - val_accuracy: 1.0000\n",
            "Epoch 112/150\n",
            "24/24 - 4s - loss: 0.0882 - accuracy: 0.9688 - val_loss: 0.2418 - val_accuracy: 0.9688\n",
            "Epoch 113/150\n",
            "24/24 - 4s - loss: 0.2530 - accuracy: 0.9271 - val_loss: 0.2850 - val_accuracy: 0.9375\n",
            "Epoch 114/150\n",
            "24/24 - 4s - loss: 0.1187 - accuracy: 0.9688 - val_loss: 0.0201 - val_accuracy: 1.0000\n",
            "Epoch 115/150\n",
            "24/24 - 4s - loss: 0.0753 - accuracy: 0.9688 - val_loss: 0.0431 - val_accuracy: 0.9688\n",
            "Epoch 116/150\n",
            "24/24 - 4s - loss: 0.1297 - accuracy: 0.9583 - val_loss: 0.0177 - val_accuracy: 1.0000\n",
            "Epoch 117/150\n",
            "24/24 - 4s - loss: 0.1233 - accuracy: 0.9583 - val_loss: 0.0572 - val_accuracy: 0.9688\n",
            "Epoch 118/150\n",
            "24/24 - 4s - loss: 0.1180 - accuracy: 0.9271 - val_loss: 0.0533 - val_accuracy: 0.9688\n",
            "Epoch 119/150\n",
            "24/24 - 4s - loss: 0.0771 - accuracy: 0.9583 - val_loss: 0.0807 - val_accuracy: 0.9688\n",
            "Epoch 120/150\n",
            "24/24 - 4s - loss: 0.0890 - accuracy: 0.9688 - val_loss: 0.0479 - val_accuracy: 0.9688\n",
            "Epoch 121/150\n",
            "24/24 - 4s - loss: 0.1200 - accuracy: 0.9479 - val_loss: 0.1498 - val_accuracy: 0.9688\n",
            "Epoch 122/150\n",
            "24/24 - 4s - loss: 0.1356 - accuracy: 0.9583 - val_loss: 0.1666 - val_accuracy: 0.9688\n",
            "Epoch 123/150\n",
            "24/24 - 4s - loss: 0.1750 - accuracy: 0.9479 - val_loss: 0.0410 - val_accuracy: 0.9688\n",
            "Epoch 124/150\n",
            "24/24 - 4s - loss: 0.0911 - accuracy: 0.9583 - val_loss: 0.0074 - val_accuracy: 1.0000\n",
            "Epoch 125/150\n",
            "24/24 - 3s - loss: 0.2530 - accuracy: 0.9167 - val_loss: 0.0491 - val_accuracy: 0.9688\n",
            "Epoch 126/150\n",
            "24/24 - 4s - loss: 0.1150 - accuracy: 0.9583 - val_loss: 0.1027 - val_accuracy: 0.9688\n",
            "Epoch 127/150\n",
            "24/24 - 4s - loss: 0.1350 - accuracy: 0.9479 - val_loss: 0.0718 - val_accuracy: 0.9688\n",
            "Epoch 128/150\n",
            "24/24 - 4s - loss: 0.1919 - accuracy: 0.9271 - val_loss: 0.0843 - val_accuracy: 0.9688\n",
            "Epoch 129/150\n",
            "24/24 - 4s - loss: 0.0746 - accuracy: 0.9688 - val_loss: 0.1242 - val_accuracy: 0.9688\n",
            "Epoch 130/150\n",
            "24/24 - 4s - loss: 0.0945 - accuracy: 0.9688 - val_loss: 0.1178 - val_accuracy: 0.9688\n",
            "Epoch 131/150\n",
            "24/24 - 4s - loss: 0.1312 - accuracy: 0.9479 - val_loss: 0.2086 - val_accuracy: 0.9375\n",
            "Epoch 132/150\n",
            "24/24 - 4s - loss: 0.1162 - accuracy: 0.9688 - val_loss: 0.0436 - val_accuracy: 0.9688\n",
            "Epoch 133/150\n",
            "24/24 - 4s - loss: 0.2414 - accuracy: 0.9583 - val_loss: 0.0164 - val_accuracy: 1.0000\n",
            "Epoch 134/150\n",
            "24/24 - 4s - loss: 0.0900 - accuracy: 0.9688 - val_loss: 0.2432 - val_accuracy: 0.9062\n",
            "Epoch 135/150\n",
            "24/24 - 4s - loss: 0.1265 - accuracy: 0.9583 - val_loss: 0.0398 - val_accuracy: 1.0000\n",
            "Epoch 136/150\n",
            "24/24 - 4s - loss: 0.1457 - accuracy: 0.9688 - val_loss: 0.0193 - val_accuracy: 1.0000\n",
            "Epoch 137/150\n",
            "24/24 - 4s - loss: 0.0774 - accuracy: 0.9792 - val_loss: 0.4915 - val_accuracy: 0.9062\n",
            "Epoch 138/150\n",
            "24/24 - 4s - loss: 0.2326 - accuracy: 0.9062 - val_loss: 0.0137 - val_accuracy: 1.0000\n",
            "Epoch 139/150\n",
            "24/24 - 4s - loss: 0.0432 - accuracy: 1.0000 - val_loss: 0.0146 - val_accuracy: 1.0000\n",
            "Epoch 140/150\n",
            "24/24 - 4s - loss: 0.1194 - accuracy: 0.9583 - val_loss: 0.0057 - val_accuracy: 1.0000\n",
            "Epoch 141/150\n",
            "24/24 - 4s - loss: 0.0272 - accuracy: 0.9792 - val_loss: 0.1213 - val_accuracy: 0.9688\n",
            "Epoch 142/150\n",
            "24/24 - 4s - loss: 0.2663 - accuracy: 0.9375 - val_loss: 0.2402 - val_accuracy: 0.9375\n",
            "Epoch 143/150\n",
            "24/24 - 4s - loss: 0.0688 - accuracy: 0.9896 - val_loss: 0.0181 - val_accuracy: 1.0000\n",
            "Epoch 144/150\n",
            "24/24 - 4s - loss: 0.1520 - accuracy: 0.9688 - val_loss: 0.0109 - val_accuracy: 1.0000\n",
            "Epoch 145/150\n",
            "24/24 - 4s - loss: 0.0466 - accuracy: 0.9896 - val_loss: 0.0081 - val_accuracy: 1.0000\n",
            "Epoch 146/150\n",
            "24/24 - 4s - loss: 0.0271 - accuracy: 0.9896 - val_loss: 0.0706 - val_accuracy: 0.9688\n",
            "Epoch 147/150\n",
            "24/24 - 4s - loss: 0.1029 - accuracy: 0.9688 - val_loss: 0.0197 - val_accuracy: 1.0000\n",
            "Epoch 148/150\n",
            "24/24 - 4s - loss: 0.0679 - accuracy: 0.9792 - val_loss: 0.0201 - val_accuracy: 1.0000\n",
            "Epoch 149/150\n",
            "24/24 - 4s - loss: 0.0362 - accuracy: 0.9896 - val_loss: 0.1194 - val_accuracy: 0.9688\n",
            "Epoch 150/150\n",
            "24/24 - 4s - loss: 0.1163 - accuracy: 0.9583 - val_loss: 0.0156 - val_accuracy: 1.0000\n"
          ],
          "name": "stdout"
        },
        {
          "output_type": "execute_result",
          "data": {
            "text/plain": [
              "<tensorflow.python.keras.callbacks.History at 0x7f231bd5fb90>"
            ]
          },
          "metadata": {
            "tags": []
          },
          "execution_count": 15
        }
      ]
    },
    {
      "cell_type": "markdown",
      "metadata": {
        "id": "I3ZPtjBkm-hg"
      },
      "source": [
        "Testing"
      ]
    },
    {
      "cell_type": "code",
      "metadata": {
        "colab": {
          "resources": {
            "http://localhost:8080/nbextensions/google.colab/files.js": {
              "data": "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",
              "ok": true,
              "headers": [
                [
                  "content-type",
                  "application/javascript"
                ]
              ],
              "status": 200,
              "status_text": ""
            }
          },
          "base_uri": "https://localhost:8080/",
          "height": 698
        },
        "id": "61doXlC-JWDE",
        "outputId": "dba96967-9b8c-4035-aa42-f5030cbf5c81"
      },
      "source": [
        "import numpy as np\n",
        "from google.colab import files\n",
        "from keras.preprocessing import image\n",
        "import matplotlib.pyplot as plt\n",
        "import matplotlib.image as mpimg\n",
        "%matplotlib inline\n",
        " \n",
        "uploaded = files.upload()\n",
        " \n",
        "for fn in uploaded.keys():\n",
        " \n",
        "  # predicting images\n",
        "  path = fn\n",
        "  img = image.load_img(path, target_size=(150,150))\n",
        "  imgplot = plt.imshow(img)\n",
        "  x = image.img_to_array(img)\n",
        "  x = np.expand_dims(x, axis=0)\n",
        " \n",
        "  images = np.vstack([x])\n",
        "  classes = model.predict(images, batch_size=4)\n",
        "  \n",
        "  print(classes)\n",
        "  if classes[0][0]==1:\n",
        "    print('papper')\n",
        "  if classes[0][1]==1:\n",
        "    print('rock')\n",
        "  if classes[0][2]==1:\n",
        "    print('scissors')"
      ],
      "execution_count": null,
      "outputs": [
        {
          "output_type": "display_data",
          "data": {
            "text/html": [
              "\n",
              "     <input type=\"file\" id=\"files-dc839b1a-bea7-4b13-81a1-5c5b9f2c44c5\" name=\"files[]\" multiple disabled\n",
              "        style=\"border:none\" />\n",
              "     <output id=\"result-dc839b1a-bea7-4b13-81a1-5c5b9f2c44c5\">\n",
              "      Upload widget is only available when the cell has been executed in the\n",
              "      current browser session. Please rerun this cell to enable.\n",
              "      </output>\n",
              "      <script src=\"/nbextensions/google.colab/files.js\"></script> "
            ],
            "text/plain": [
              "<IPython.core.display.HTML object>"
            ]
          },
          "metadata": {
            "tags": []
          }
        },
        {
          "output_type": "stream",
          "text": [
            "Saving batu (2).png to batu (2).png\n",
            "Saving batu.png to batu.png\n",
            "Saving gunting (2).png to gunting (2).png\n",
            "Saving gunting.png to gunting.png\n",
            "Saving kertas (2).png to kertas (2).png\n",
            "Saving kertas.png to kertas.png\n",
            "[[0. 1. 0.]]\n",
            "rock\n",
            "[[0. 1. 0.]]\n",
            "rock\n",
            "[[0. 0. 1.]]\n",
            "scissors\n",
            "[[0. 0. 1.]]\n",
            "scissors\n",
            "[[1. 0. 0.]]\n",
            "papper\n",
            "[[1. 0. 0.]]\n",
            "papper\n"
          ],
          "name": "stdout"
        },
        {
          "output_type": "display_data",
          "data": {
            "image/png": "[encoded data removed]",
            "text/plain": [
              "<Figure size 432x288 with 1 Axes>"
            ]
          },
          "metadata": {
            "tags": [],
            "needs_background": "light"
          }
        }
      ]
    },
    {
      "cell_type": "code",
      "metadata": {
        "id": "QufqYlqbLJEY"
      },
      "source": [
        ""
      ],
      "execution_count": null,
      "outputs": []
    }
  ]
}